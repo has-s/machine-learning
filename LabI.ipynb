{
 "cells": [
  {
   "cell_type": "code",
   "execution_count": 1,
   "metadata": {
    "ExecuteTime": {
     "end_time": "2024-06-05T12:01:33.529305Z",
     "start_time": "2024-06-05T12:01:33.242036Z"
    }
   },
   "outputs": [],
   "source": [
    "import numpy as np\n",
    "import pandas as pd"
   ]
  },
  {
   "cell_type": "code",
   "execution_count": 3,
   "metadata": {
    "ExecuteTime": {
     "end_time": "2024-06-05T12:01:55.824602Z",
     "start_time": "2024-06-05T12:01:55.815382Z"
    }
   },
   "outputs": [
    {
     "name": "stdout",
     "output_type": "stream",
     "text": [
      "<class 'pandas.core.frame.DataFrame'>\n",
      "RangeIndex: 517 entries, 0 to 516\n",
      "Data columns (total 13 columns):\n",
      " #   Column  Non-Null Count  Dtype  \n",
      "---  ------  --------------  -----  \n",
      " 0   X       517 non-null    int64  \n",
      " 1   Y       517 non-null    int64  \n",
      " 2   month   517 non-null    object \n",
      " 3   day     517 non-null    object \n",
      " 4   FFMC    517 non-null    float64\n",
      " 5   DMC     517 non-null    float64\n",
      " 6   DC      517 non-null    float64\n",
      " 7   ISI     517 non-null    float64\n",
      " 8   temp    517 non-null    float64\n",
      " 9   RH      517 non-null    int64  \n",
      " 10  wind    517 non-null    float64\n",
      " 11  rain    517 non-null    float64\n",
      " 12  area    517 non-null    float64\n",
      "dtypes: float64(8), int64(3), object(2)\n",
      "memory usage: 52.6+ KB\n"
     ]
    }
   ],
   "source": [
    "data = pd.read_csv(\"Datasets/forestfires.csv\" )\n",
    "data.info()"
   ]
  },
  {
   "cell_type": "code",
   "execution_count": 4,
   "metadata": {
    "ExecuteTime": {
     "end_time": "2024-06-05T12:01:57.102640Z",
     "start_time": "2024-06-05T12:01:57.100684Z"
    }
   },
   "outputs": [],
   "source": [
    "# Пропусков в данных нет\n",
    "# Присутствуют два нечисловых столбцы"
   ]
  },
  {
   "cell_type": "code",
   "execution_count": 5,
   "metadata": {
    "ExecuteTime": {
     "end_time": "2024-06-05T12:01:57.995089Z",
     "start_time": "2024-06-05T12:01:57.985646Z"
    }
   },
   "outputs": [
    {
     "data": {
      "text/plain": "   X  Y month  day  FFMC   DMC     DC  ISI  temp  RH  wind  rain  area\n0  7  5   mar  fri  86.2  26.2   94.3  5.1   8.2  51   6.7   0.0   0.0\n1  7  4   oct  tue  90.6  35.4  669.1  6.7  18.0  33   0.9   0.0   0.0\n2  7  4   oct  sat  90.6  43.7  686.9  6.7  14.6  33   1.3   0.0   0.0\n3  8  6   mar  fri  91.7  33.3   77.5  9.0   8.3  97   4.0   0.2   0.0\n4  8  6   mar  sun  89.3  51.3  102.2  9.6  11.4  99   1.8   0.0   0.0",
      "text/html": "<div>\n<style scoped>\n    .dataframe tbody tr th:only-of-type {\n        vertical-align: middle;\n    }\n\n    .dataframe tbody tr th {\n        vertical-align: top;\n    }\n\n    .dataframe thead th {\n        text-align: right;\n    }\n</style>\n<table border=\"1\" class=\"dataframe\">\n  <thead>\n    <tr style=\"text-align: right;\">\n      <th></th>\n      <th>X</th>\n      <th>Y</th>\n      <th>month</th>\n      <th>day</th>\n      <th>FFMC</th>\n      <th>DMC</th>\n      <th>DC</th>\n      <th>ISI</th>\n      <th>temp</th>\n      <th>RH</th>\n      <th>wind</th>\n      <th>rain</th>\n      <th>area</th>\n    </tr>\n  </thead>\n  <tbody>\n    <tr>\n      <th>0</th>\n      <td>7</td>\n      <td>5</td>\n      <td>mar</td>\n      <td>fri</td>\n      <td>86.2</td>\n      <td>26.2</td>\n      <td>94.3</td>\n      <td>5.1</td>\n      <td>8.2</td>\n      <td>51</td>\n      <td>6.7</td>\n      <td>0.0</td>\n      <td>0.0</td>\n    </tr>\n    <tr>\n      <th>1</th>\n      <td>7</td>\n      <td>4</td>\n      <td>oct</td>\n      <td>tue</td>\n      <td>90.6</td>\n      <td>35.4</td>\n      <td>669.1</td>\n      <td>6.7</td>\n      <td>18.0</td>\n      <td>33</td>\n      <td>0.9</td>\n      <td>0.0</td>\n      <td>0.0</td>\n    </tr>\n    <tr>\n      <th>2</th>\n      <td>7</td>\n      <td>4</td>\n      <td>oct</td>\n      <td>sat</td>\n      <td>90.6</td>\n      <td>43.7</td>\n      <td>686.9</td>\n      <td>6.7</td>\n      <td>14.6</td>\n      <td>33</td>\n      <td>1.3</td>\n      <td>0.0</td>\n      <td>0.0</td>\n    </tr>\n    <tr>\n      <th>3</th>\n      <td>8</td>\n      <td>6</td>\n      <td>mar</td>\n      <td>fri</td>\n      <td>91.7</td>\n      <td>33.3</td>\n      <td>77.5</td>\n      <td>9.0</td>\n      <td>8.3</td>\n      <td>97</td>\n      <td>4.0</td>\n      <td>0.2</td>\n      <td>0.0</td>\n    </tr>\n    <tr>\n      <th>4</th>\n      <td>8</td>\n      <td>6</td>\n      <td>mar</td>\n      <td>sun</td>\n      <td>89.3</td>\n      <td>51.3</td>\n      <td>102.2</td>\n      <td>9.6</td>\n      <td>11.4</td>\n      <td>99</td>\n      <td>1.8</td>\n      <td>0.0</td>\n      <td>0.0</td>\n    </tr>\n  </tbody>\n</table>\n</div>"
     },
     "execution_count": 5,
     "metadata": {},
     "output_type": "execute_result"
    }
   ],
   "source": [
    "data.head()"
   ]
  },
  {
   "cell_type": "code",
   "execution_count": 6,
   "metadata": {
    "ExecuteTime": {
     "end_time": "2024-06-05T12:01:59.090120Z",
     "start_time": "2024-06-05T12:01:59.075428Z"
    }
   },
   "outputs": [
    {
     "data": {
      "text/plain": "                X           Y        FFMC         DMC          DC         ISI  \\\ncount  517.000000  517.000000  517.000000  517.000000  517.000000  517.000000   \nmean     4.669246    4.299807   90.644681  110.872340  547.940039    9.021663   \nstd      2.313778    1.229900    5.520111   64.046482  248.066192    4.559477   \nmin      1.000000    2.000000   18.700000    1.100000    7.900000    0.000000   \n25%      3.000000    4.000000   90.200000   68.600000  437.700000    6.500000   \n50%      4.000000    4.000000   91.600000  108.300000  664.200000    8.400000   \n75%      7.000000    5.000000   92.900000  142.400000  713.900000   10.800000   \nmax      9.000000    9.000000   96.200000  291.300000  860.600000   56.100000   \n\n             temp          RH        wind        rain         area  \ncount  517.000000  517.000000  517.000000  517.000000   517.000000  \nmean    18.889168   44.288201    4.017602    0.021663    12.847292  \nstd      5.806625   16.317469    1.791653    0.295959    63.655818  \nmin      2.200000   15.000000    0.400000    0.000000     0.000000  \n25%     15.500000   33.000000    2.700000    0.000000     0.000000  \n50%     19.300000   42.000000    4.000000    0.000000     0.520000  \n75%     22.800000   53.000000    4.900000    0.000000     6.570000  \nmax     33.300000  100.000000    9.400000    6.400000  1090.840000  ",
      "text/html": "<div>\n<style scoped>\n    .dataframe tbody tr th:only-of-type {\n        vertical-align: middle;\n    }\n\n    .dataframe tbody tr th {\n        vertical-align: top;\n    }\n\n    .dataframe thead th {\n        text-align: right;\n    }\n</style>\n<table border=\"1\" class=\"dataframe\">\n  <thead>\n    <tr style=\"text-align: right;\">\n      <th></th>\n      <th>X</th>\n      <th>Y</th>\n      <th>FFMC</th>\n      <th>DMC</th>\n      <th>DC</th>\n      <th>ISI</th>\n      <th>temp</th>\n      <th>RH</th>\n      <th>wind</th>\n      <th>rain</th>\n      <th>area</th>\n    </tr>\n  </thead>\n  <tbody>\n    <tr>\n      <th>count</th>\n      <td>517.000000</td>\n      <td>517.000000</td>\n      <td>517.000000</td>\n      <td>517.000000</td>\n      <td>517.000000</td>\n      <td>517.000000</td>\n      <td>517.000000</td>\n      <td>517.000000</td>\n      <td>517.000000</td>\n      <td>517.000000</td>\n      <td>517.000000</td>\n    </tr>\n    <tr>\n      <th>mean</th>\n      <td>4.669246</td>\n      <td>4.299807</td>\n      <td>90.644681</td>\n      <td>110.872340</td>\n      <td>547.940039</td>\n      <td>9.021663</td>\n      <td>18.889168</td>\n      <td>44.288201</td>\n      <td>4.017602</td>\n      <td>0.021663</td>\n      <td>12.847292</td>\n    </tr>\n    <tr>\n      <th>std</th>\n      <td>2.313778</td>\n      <td>1.229900</td>\n      <td>5.520111</td>\n      <td>64.046482</td>\n      <td>248.066192</td>\n      <td>4.559477</td>\n      <td>5.806625</td>\n      <td>16.317469</td>\n      <td>1.791653</td>\n      <td>0.295959</td>\n      <td>63.655818</td>\n    </tr>\n    <tr>\n      <th>min</th>\n      <td>1.000000</td>\n      <td>2.000000</td>\n      <td>18.700000</td>\n      <td>1.100000</td>\n      <td>7.900000</td>\n      <td>0.000000</td>\n      <td>2.200000</td>\n      <td>15.000000</td>\n      <td>0.400000</td>\n      <td>0.000000</td>\n      <td>0.000000</td>\n    </tr>\n    <tr>\n      <th>25%</th>\n      <td>3.000000</td>\n      <td>4.000000</td>\n      <td>90.200000</td>\n      <td>68.600000</td>\n      <td>437.700000</td>\n      <td>6.500000</td>\n      <td>15.500000</td>\n      <td>33.000000</td>\n      <td>2.700000</td>\n      <td>0.000000</td>\n      <td>0.000000</td>\n    </tr>\n    <tr>\n      <th>50%</th>\n      <td>4.000000</td>\n      <td>4.000000</td>\n      <td>91.600000</td>\n      <td>108.300000</td>\n      <td>664.200000</td>\n      <td>8.400000</td>\n      <td>19.300000</td>\n      <td>42.000000</td>\n      <td>4.000000</td>\n      <td>0.000000</td>\n      <td>0.520000</td>\n    </tr>\n    <tr>\n      <th>75%</th>\n      <td>7.000000</td>\n      <td>5.000000</td>\n      <td>92.900000</td>\n      <td>142.400000</td>\n      <td>713.900000</td>\n      <td>10.800000</td>\n      <td>22.800000</td>\n      <td>53.000000</td>\n      <td>4.900000</td>\n      <td>0.000000</td>\n      <td>6.570000</td>\n    </tr>\n    <tr>\n      <th>max</th>\n      <td>9.000000</td>\n      <td>9.000000</td>\n      <td>96.200000</td>\n      <td>291.300000</td>\n      <td>860.600000</td>\n      <td>56.100000</td>\n      <td>33.300000</td>\n      <td>100.000000</td>\n      <td>9.400000</td>\n      <td>6.400000</td>\n      <td>1090.840000</td>\n    </tr>\n  </tbody>\n</table>\n</div>"
     },
     "execution_count": 6,
     "metadata": {},
     "output_type": "execute_result"
    }
   ],
   "source": [
    "data.describe()"
   ]
  },
  {
   "cell_type": "code",
   "execution_count": 7,
   "metadata": {
    "ExecuteTime": {
     "end_time": "2024-06-05T12:02:00.180307Z",
     "start_time": "2024-06-05T12:02:00.178203Z"
    }
   },
   "outputs": [],
   "source": [
    "# Заменим месяц и день недели на числовые значения"
   ]
  },
  {
   "cell_type": "code",
   "execution_count": 8,
   "metadata": {
    "ExecuteTime": {
     "end_time": "2024-06-05T12:02:01.146432Z",
     "start_time": "2024-06-05T12:02:01.143427Z"
    }
   },
   "outputs": [
    {
     "data": {
      "text/plain": "array(['mar', 'oct', 'aug', 'sep', 'apr', 'jun', 'jul', 'feb', 'jan',\n       'dec', 'may', 'nov'], dtype=object)"
     },
     "execution_count": 8,
     "metadata": {},
     "output_type": "execute_result"
    }
   ],
   "source": [
    "data.month.unique()"
   ]
  },
  {
   "cell_type": "code",
   "execution_count": 9,
   "metadata": {
    "ExecuteTime": {
     "end_time": "2024-06-05T12:02:01.702156Z",
     "start_time": "2024-06-05T12:02:01.698843Z"
    }
   },
   "outputs": [],
   "source": [
    "data.month = data.month.map({\n",
    "                    'jan':0,\n",
    "                    'feb':1,\n",
    "                    'mar':2,\n",
    "                    'apr':3,\n",
    "                    'may':4,\n",
    "                    'jun':5,\n",
    "                    'jul':6,\n",
    "                    'aug':7,\n",
    "                    'sep':8,\n",
    "                    'oct':9,\n",
    "                    'nov':10,\n",
    "                    'dec':11\n",
    "                    })"
   ]
  },
  {
   "cell_type": "code",
   "execution_count": 10,
   "metadata": {
    "ExecuteTime": {
     "end_time": "2024-06-05T12:02:02.469859Z",
     "start_time": "2024-06-05T12:02:02.465096Z"
    }
   },
   "outputs": [
    {
     "data": {
      "text/plain": "array(['fri', 'tue', 'sat', 'sun', 'mon', 'wed', 'thu'], dtype=object)"
     },
     "execution_count": 10,
     "metadata": {},
     "output_type": "execute_result"
    }
   ],
   "source": [
    "data.day.unique()"
   ]
  },
  {
   "cell_type": "code",
   "execution_count": 11,
   "metadata": {
    "ExecuteTime": {
     "end_time": "2024-06-05T12:02:03.149305Z",
     "start_time": "2024-06-05T12:02:03.146577Z"
    }
   },
   "outputs": [],
   "source": [
    "data.day = data.day.map({\n",
    "                    'mon':0,\n",
    "                    'tue':1,\n",
    "                    'wed':2,\n",
    "                    'thu':3,\n",
    "                    'fri':4,\n",
    "                    'sat':5,\n",
    "                    'sun':6\n",
    "                    })"
   ]
  },
  {
   "cell_type": "code",
   "execution_count": 12,
   "metadata": {
    "ExecuteTime": {
     "end_time": "2024-06-05T12:02:04.079593Z",
     "start_time": "2024-06-05T12:02:04.069930Z"
    }
   },
   "outputs": [
    {
     "data": {
      "text/plain": "     X  Y  month  day  FFMC    DMC     DC   ISI  temp  RH  wind  rain     area\n238  6  5      8    5  92.5  121.1  674.4   8.6  25.1  27   4.0   0.0  1090.84\n415  8  6      7    3  94.8  222.4  698.6  13.9  27.5  27   4.9   0.0   746.28\n479  7  4      6    0  89.2  103.9  431.6   6.4  22.6  57   4.9   0.0   278.53\n237  1  2      8    1  91.0  129.5  692.6   7.0  18.8  40   2.2   0.0   212.88\n236  2  2      8    5  92.5  121.1  674.4   8.6  18.2  46   1.8   0.0   200.94\n..  .. ..    ...  ...   ...    ...    ...   ...   ...  ..   ...   ...      ...\n116  3  4      2    5  91.7   35.8   80.8   7.8  11.6  30   6.3   0.0     0.00\n115  3  5      2    1  88.1   25.7   67.6   3.8  15.5  27   6.3   0.0     0.00\n114  3  4      2    1  88.1   25.7   67.6   3.8  15.8  27   7.6   0.0     0.00\n113  3  4      8    0  91.8   78.5  724.3   9.2  18.9  35   2.7   0.0     0.00\n516  6  3     10    1  79.5    3.0  106.7   1.1  11.8  31   4.5   0.0     0.00\n\n[517 rows x 13 columns]",
      "text/html": "<div>\n<style scoped>\n    .dataframe tbody tr th:only-of-type {\n        vertical-align: middle;\n    }\n\n    .dataframe tbody tr th {\n        vertical-align: top;\n    }\n\n    .dataframe thead th {\n        text-align: right;\n    }\n</style>\n<table border=\"1\" class=\"dataframe\">\n  <thead>\n    <tr style=\"text-align: right;\">\n      <th></th>\n      <th>X</th>\n      <th>Y</th>\n      <th>month</th>\n      <th>day</th>\n      <th>FFMC</th>\n      <th>DMC</th>\n      <th>DC</th>\n      <th>ISI</th>\n      <th>temp</th>\n      <th>RH</th>\n      <th>wind</th>\n      <th>rain</th>\n      <th>area</th>\n    </tr>\n  </thead>\n  <tbody>\n    <tr>\n      <th>238</th>\n      <td>6</td>\n      <td>5</td>\n      <td>8</td>\n      <td>5</td>\n      <td>92.5</td>\n      <td>121.1</td>\n      <td>674.4</td>\n      <td>8.6</td>\n      <td>25.1</td>\n      <td>27</td>\n      <td>4.0</td>\n      <td>0.0</td>\n      <td>1090.84</td>\n    </tr>\n    <tr>\n      <th>415</th>\n      <td>8</td>\n      <td>6</td>\n      <td>7</td>\n      <td>3</td>\n      <td>94.8</td>\n      <td>222.4</td>\n      <td>698.6</td>\n      <td>13.9</td>\n      <td>27.5</td>\n      <td>27</td>\n      <td>4.9</td>\n      <td>0.0</td>\n      <td>746.28</td>\n    </tr>\n    <tr>\n      <th>479</th>\n      <td>7</td>\n      <td>4</td>\n      <td>6</td>\n      <td>0</td>\n      <td>89.2</td>\n      <td>103.9</td>\n      <td>431.6</td>\n      <td>6.4</td>\n      <td>22.6</td>\n      <td>57</td>\n      <td>4.9</td>\n      <td>0.0</td>\n      <td>278.53</td>\n    </tr>\n    <tr>\n      <th>237</th>\n      <td>1</td>\n      <td>2</td>\n      <td>8</td>\n      <td>1</td>\n      <td>91.0</td>\n      <td>129.5</td>\n      <td>692.6</td>\n      <td>7.0</td>\n      <td>18.8</td>\n      <td>40</td>\n      <td>2.2</td>\n      <td>0.0</td>\n      <td>212.88</td>\n    </tr>\n    <tr>\n      <th>236</th>\n      <td>2</td>\n      <td>2</td>\n      <td>8</td>\n      <td>5</td>\n      <td>92.5</td>\n      <td>121.1</td>\n      <td>674.4</td>\n      <td>8.6</td>\n      <td>18.2</td>\n      <td>46</td>\n      <td>1.8</td>\n      <td>0.0</td>\n      <td>200.94</td>\n    </tr>\n    <tr>\n      <th>...</th>\n      <td>...</td>\n      <td>...</td>\n      <td>...</td>\n      <td>...</td>\n      <td>...</td>\n      <td>...</td>\n      <td>...</td>\n      <td>...</td>\n      <td>...</td>\n      <td>...</td>\n      <td>...</td>\n      <td>...</td>\n      <td>...</td>\n    </tr>\n    <tr>\n      <th>116</th>\n      <td>3</td>\n      <td>4</td>\n      <td>2</td>\n      <td>5</td>\n      <td>91.7</td>\n      <td>35.8</td>\n      <td>80.8</td>\n      <td>7.8</td>\n      <td>11.6</td>\n      <td>30</td>\n      <td>6.3</td>\n      <td>0.0</td>\n      <td>0.00</td>\n    </tr>\n    <tr>\n      <th>115</th>\n      <td>3</td>\n      <td>5</td>\n      <td>2</td>\n      <td>1</td>\n      <td>88.1</td>\n      <td>25.7</td>\n      <td>67.6</td>\n      <td>3.8</td>\n      <td>15.5</td>\n      <td>27</td>\n      <td>6.3</td>\n      <td>0.0</td>\n      <td>0.00</td>\n    </tr>\n    <tr>\n      <th>114</th>\n      <td>3</td>\n      <td>4</td>\n      <td>2</td>\n      <td>1</td>\n      <td>88.1</td>\n      <td>25.7</td>\n      <td>67.6</td>\n      <td>3.8</td>\n      <td>15.8</td>\n      <td>27</td>\n      <td>7.6</td>\n      <td>0.0</td>\n      <td>0.00</td>\n    </tr>\n    <tr>\n      <th>113</th>\n      <td>3</td>\n      <td>4</td>\n      <td>8</td>\n      <td>0</td>\n      <td>91.8</td>\n      <td>78.5</td>\n      <td>724.3</td>\n      <td>9.2</td>\n      <td>18.9</td>\n      <td>35</td>\n      <td>2.7</td>\n      <td>0.0</td>\n      <td>0.00</td>\n    </tr>\n    <tr>\n      <th>516</th>\n      <td>6</td>\n      <td>3</td>\n      <td>10</td>\n      <td>1</td>\n      <td>79.5</td>\n      <td>3.0</td>\n      <td>106.7</td>\n      <td>1.1</td>\n      <td>11.8</td>\n      <td>31</td>\n      <td>4.5</td>\n      <td>0.0</td>\n      <td>0.00</td>\n    </tr>\n  </tbody>\n</table>\n<p>517 rows × 13 columns</p>\n</div>"
     },
     "execution_count": 12,
     "metadata": {},
     "output_type": "execute_result"
    }
   ],
   "source": [
    "data.sort_values('area', ascending=False)"
   ]
  },
  {
   "cell_type": "code",
   "execution_count": 13,
   "metadata": {
    "ExecuteTime": {
     "end_time": "2024-06-05T12:02:05.792182Z",
     "start_time": "2024-06-05T12:02:05.782508Z"
    }
   },
   "outputs": [
    {
     "data": {
      "text/plain": "              X         Y     month       day      FFMC       DMC        DC  \\\nX      1.000000  0.539548 -0.065003 -0.024922 -0.021039 -0.048384 -0.085916   \nY      0.539548  1.000000 -0.066292 -0.005453 -0.046308  0.007782 -0.101178   \nmonth -0.065003 -0.066292  1.000000 -0.050837  0.291477  0.466645  0.868698   \nday   -0.024922 -0.005453 -0.050837  1.000000 -0.041068  0.062870  0.000105   \nFFMC  -0.021039 -0.046308  0.291477 -0.041068  1.000000  0.382619  0.330512   \nDMC   -0.048384  0.007782  0.466645  0.062870  0.382619  1.000000  0.682192   \nDC    -0.085916 -0.101178  0.868698  0.000105  0.330512  0.682192  1.000000   \nISI    0.006210 -0.024488  0.186597  0.032909  0.531805  0.305128  0.229154   \ntemp  -0.051258 -0.024103  0.368842  0.052190  0.431532  0.469594  0.496208   \nRH     0.085223  0.062221 -0.095280  0.092151 -0.300995  0.073795 -0.039192   \nwind   0.018798 -0.020341 -0.086368  0.032478 -0.028485 -0.105342 -0.203466   \nrain   0.065387  0.033234  0.013438 -0.048340  0.056702  0.074790  0.035861   \narea   0.063385  0.044873  0.056496  0.023226  0.040122  0.072994  0.049383   \n\n            ISI      temp        RH      wind      rain      area  \nX      0.006210 -0.051258  0.085223  0.018798  0.065387  0.063385  \nY     -0.024488 -0.024103  0.062221 -0.020341  0.033234  0.044873  \nmonth  0.186597  0.368842 -0.095280 -0.086368  0.013438  0.056496  \nday    0.032909  0.052190  0.092151  0.032478 -0.048340  0.023226  \nFFMC   0.531805  0.431532 -0.300995 -0.028485  0.056702  0.040122  \nDMC    0.305128  0.469594  0.073795 -0.105342  0.074790  0.072994  \nDC     0.229154  0.496208 -0.039192 -0.203466  0.035861  0.049383  \nISI    1.000000  0.394287 -0.132517  0.106826  0.067668  0.008258  \ntemp   0.394287  1.000000 -0.527390 -0.227116  0.069491  0.097844  \nRH    -0.132517 -0.527390  1.000000  0.069410  0.099751 -0.075519  \nwind   0.106826 -0.227116  0.069410  1.000000  0.061119  0.012317  \nrain   0.067668  0.069491  0.099751  0.061119  1.000000 -0.007366  \narea   0.008258  0.097844 -0.075519  0.012317 -0.007366  1.000000  ",
      "text/html": "<div>\n<style scoped>\n    .dataframe tbody tr th:only-of-type {\n        vertical-align: middle;\n    }\n\n    .dataframe tbody tr th {\n        vertical-align: top;\n    }\n\n    .dataframe thead th {\n        text-align: right;\n    }\n</style>\n<table border=\"1\" class=\"dataframe\">\n  <thead>\n    <tr style=\"text-align: right;\">\n      <th></th>\n      <th>X</th>\n      <th>Y</th>\n      <th>month</th>\n      <th>day</th>\n      <th>FFMC</th>\n      <th>DMC</th>\n      <th>DC</th>\n      <th>ISI</th>\n      <th>temp</th>\n      <th>RH</th>\n      <th>wind</th>\n      <th>rain</th>\n      <th>area</th>\n    </tr>\n  </thead>\n  <tbody>\n    <tr>\n      <th>X</th>\n      <td>1.000000</td>\n      <td>0.539548</td>\n      <td>-0.065003</td>\n      <td>-0.024922</td>\n      <td>-0.021039</td>\n      <td>-0.048384</td>\n      <td>-0.085916</td>\n      <td>0.006210</td>\n      <td>-0.051258</td>\n      <td>0.085223</td>\n      <td>0.018798</td>\n      <td>0.065387</td>\n      <td>0.063385</td>\n    </tr>\n    <tr>\n      <th>Y</th>\n      <td>0.539548</td>\n      <td>1.000000</td>\n      <td>-0.066292</td>\n      <td>-0.005453</td>\n      <td>-0.046308</td>\n      <td>0.007782</td>\n      <td>-0.101178</td>\n      <td>-0.024488</td>\n      <td>-0.024103</td>\n      <td>0.062221</td>\n      <td>-0.020341</td>\n      <td>0.033234</td>\n      <td>0.044873</td>\n    </tr>\n    <tr>\n      <th>month</th>\n      <td>-0.065003</td>\n      <td>-0.066292</td>\n      <td>1.000000</td>\n      <td>-0.050837</td>\n      <td>0.291477</td>\n      <td>0.466645</td>\n      <td>0.868698</td>\n      <td>0.186597</td>\n      <td>0.368842</td>\n      <td>-0.095280</td>\n      <td>-0.086368</td>\n      <td>0.013438</td>\n      <td>0.056496</td>\n    </tr>\n    <tr>\n      <th>day</th>\n      <td>-0.024922</td>\n      <td>-0.005453</td>\n      <td>-0.050837</td>\n      <td>1.000000</td>\n      <td>-0.041068</td>\n      <td>0.062870</td>\n      <td>0.000105</td>\n      <td>0.032909</td>\n      <td>0.052190</td>\n      <td>0.092151</td>\n      <td>0.032478</td>\n      <td>-0.048340</td>\n      <td>0.023226</td>\n    </tr>\n    <tr>\n      <th>FFMC</th>\n      <td>-0.021039</td>\n      <td>-0.046308</td>\n      <td>0.291477</td>\n      <td>-0.041068</td>\n      <td>1.000000</td>\n      <td>0.382619</td>\n      <td>0.330512</td>\n      <td>0.531805</td>\n      <td>0.431532</td>\n      <td>-0.300995</td>\n      <td>-0.028485</td>\n      <td>0.056702</td>\n      <td>0.040122</td>\n    </tr>\n    <tr>\n      <th>DMC</th>\n      <td>-0.048384</td>\n      <td>0.007782</td>\n      <td>0.466645</td>\n      <td>0.062870</td>\n      <td>0.382619</td>\n      <td>1.000000</td>\n      <td>0.682192</td>\n      <td>0.305128</td>\n      <td>0.469594</td>\n      <td>0.073795</td>\n      <td>-0.105342</td>\n      <td>0.074790</td>\n      <td>0.072994</td>\n    </tr>\n    <tr>\n      <th>DC</th>\n      <td>-0.085916</td>\n      <td>-0.101178</td>\n      <td>0.868698</td>\n      <td>0.000105</td>\n      <td>0.330512</td>\n      <td>0.682192</td>\n      <td>1.000000</td>\n      <td>0.229154</td>\n      <td>0.496208</td>\n      <td>-0.039192</td>\n      <td>-0.203466</td>\n      <td>0.035861</td>\n      <td>0.049383</td>\n    </tr>\n    <tr>\n      <th>ISI</th>\n      <td>0.006210</td>\n      <td>-0.024488</td>\n      <td>0.186597</td>\n      <td>0.032909</td>\n      <td>0.531805</td>\n      <td>0.305128</td>\n      <td>0.229154</td>\n      <td>1.000000</td>\n      <td>0.394287</td>\n      <td>-0.132517</td>\n      <td>0.106826</td>\n      <td>0.067668</td>\n      <td>0.008258</td>\n    </tr>\n    <tr>\n      <th>temp</th>\n      <td>-0.051258</td>\n      <td>-0.024103</td>\n      <td>0.368842</td>\n      <td>0.052190</td>\n      <td>0.431532</td>\n      <td>0.469594</td>\n      <td>0.496208</td>\n      <td>0.394287</td>\n      <td>1.000000</td>\n      <td>-0.527390</td>\n      <td>-0.227116</td>\n      <td>0.069491</td>\n      <td>0.097844</td>\n    </tr>\n    <tr>\n      <th>RH</th>\n      <td>0.085223</td>\n      <td>0.062221</td>\n      <td>-0.095280</td>\n      <td>0.092151</td>\n      <td>-0.300995</td>\n      <td>0.073795</td>\n      <td>-0.039192</td>\n      <td>-0.132517</td>\n      <td>-0.527390</td>\n      <td>1.000000</td>\n      <td>0.069410</td>\n      <td>0.099751</td>\n      <td>-0.075519</td>\n    </tr>\n    <tr>\n      <th>wind</th>\n      <td>0.018798</td>\n      <td>-0.020341</td>\n      <td>-0.086368</td>\n      <td>0.032478</td>\n      <td>-0.028485</td>\n      <td>-0.105342</td>\n      <td>-0.203466</td>\n      <td>0.106826</td>\n      <td>-0.227116</td>\n      <td>0.069410</td>\n      <td>1.000000</td>\n      <td>0.061119</td>\n      <td>0.012317</td>\n    </tr>\n    <tr>\n      <th>rain</th>\n      <td>0.065387</td>\n      <td>0.033234</td>\n      <td>0.013438</td>\n      <td>-0.048340</td>\n      <td>0.056702</td>\n      <td>0.074790</td>\n      <td>0.035861</td>\n      <td>0.067668</td>\n      <td>0.069491</td>\n      <td>0.099751</td>\n      <td>0.061119</td>\n      <td>1.000000</td>\n      <td>-0.007366</td>\n    </tr>\n    <tr>\n      <th>area</th>\n      <td>0.063385</td>\n      <td>0.044873</td>\n      <td>0.056496</td>\n      <td>0.023226</td>\n      <td>0.040122</td>\n      <td>0.072994</td>\n      <td>0.049383</td>\n      <td>0.008258</td>\n      <td>0.097844</td>\n      <td>-0.075519</td>\n      <td>0.012317</td>\n      <td>-0.007366</td>\n      <td>1.000000</td>\n    </tr>\n  </tbody>\n</table>\n</div>"
     },
     "execution_count": 13,
     "metadata": {},
     "output_type": "execute_result"
    }
   ],
   "source": [
    "data.corr()"
   ]
  },
  {
   "cell_type": "code",
   "execution_count": 14,
   "metadata": {
    "ExecuteTime": {
     "end_time": "2024-06-05T12:02:07.077140Z",
     "start_time": "2024-06-05T12:02:06.640782Z"
    }
   },
   "outputs": [
    {
     "data": {
      "text/plain": "<Axes: >"
     },
     "execution_count": 14,
     "metadata": {},
     "output_type": "execute_result"
    },
    {
     "data": {
      "text/plain": "<Figure size 640x480 with 1 Axes>",
      "image/png": "[encoded data removed]"
     },
     "metadata": {},
     "output_type": "display_data"
    }
   ],
   "source": [
    "data.area.hist()"
   ]
  },
  {
   "cell_type": "code",
   "execution_count": 15,
   "metadata": {
    "ExecuteTime": {
     "end_time": "2024-06-05T12:02:07.782283Z",
     "start_time": "2024-06-05T12:02:07.780222Z"
    }
   },
   "outputs": [],
   "source": [
    "# Целевой признак почти всегда равен 0 (пожара нет)\n",
    "# Посмотрим на ненулевые площади"
   ]
  },
  {
   "cell_type": "code",
   "execution_count": 16,
   "metadata": {
    "ExecuteTime": {
     "end_time": "2024-06-05T12:02:08.714319Z",
     "start_time": "2024-06-05T12:02:08.630568Z"
    }
   },
   "outputs": [
    {
     "data": {
      "text/plain": "<Axes: >"
     },
     "execution_count": 16,
     "metadata": {},
     "output_type": "execute_result"
    },
    {
     "data": {
      "text/plain": "<Figure size 640x480 with 1 Axes>",
      "image/png": "[encoded data removed]"
     },
     "metadata": {},
     "output_type": "display_data"
    }
   ],
   "source": [
    "data.loc[data['area'] > 0].area.hist()"
   ]
  },
  {
   "cell_type": "code",
   "execution_count": 17,
   "metadata": {
    "ExecuteTime": {
     "end_time": "2024-06-05T12:02:09.346247Z",
     "start_time": "2024-06-05T12:02:09.344108Z"
    }
   },
   "outputs": [],
   "source": [
    "# Площадь пожара обычно мала, иногда равна около 200, крайне редко равна 700 и 1000"
   ]
  },
  {
   "cell_type": "code",
   "execution_count": 18,
   "metadata": {
    "ExecuteTime": {
     "end_time": "2024-06-05T12:02:09.983528Z",
     "start_time": "2024-06-05T12:02:09.976288Z"
    }
   },
   "outputs": [
    {
     "data": {
      "text/plain": "   X  Y  month  day  FFMC   DMC     DC  ISI  temp  RH  wind  rain  area\n0  7  5      2    4  86.2  26.2   94.3  5.1   8.2  51   6.7   0.0   0.0\n1  7  4      9    1  90.6  35.4  669.1  6.7  18.0  33   0.9   0.0   0.0\n2  7  4      9    5  90.6  43.7  686.9  6.7  14.6  33   1.3   0.0   0.0\n3  8  6      2    4  91.7  33.3   77.5  9.0   8.3  97   4.0   0.2   0.0\n4  8  6      2    6  89.3  51.3  102.2  9.6  11.4  99   1.8   0.0   0.0",
      "text/html": "<div>\n<style scoped>\n    .dataframe tbody tr th:only-of-type {\n        vertical-align: middle;\n    }\n\n    .dataframe tbody tr th {\n        vertical-align: top;\n    }\n\n    .dataframe thead th {\n        text-align: right;\n    }\n</style>\n<table border=\"1\" class=\"dataframe\">\n  <thead>\n    <tr style=\"text-align: right;\">\n      <th></th>\n      <th>X</th>\n      <th>Y</th>\n      <th>month</th>\n      <th>day</th>\n      <th>FFMC</th>\n      <th>DMC</th>\n      <th>DC</th>\n      <th>ISI</th>\n      <th>temp</th>\n      <th>RH</th>\n      <th>wind</th>\n      <th>rain</th>\n      <th>area</th>\n    </tr>\n  </thead>\n  <tbody>\n    <tr>\n      <th>0</th>\n      <td>7</td>\n      <td>5</td>\n      <td>2</td>\n      <td>4</td>\n      <td>86.2</td>\n      <td>26.2</td>\n      <td>94.3</td>\n      <td>5.1</td>\n      <td>8.2</td>\n      <td>51</td>\n      <td>6.7</td>\n      <td>0.0</td>\n      <td>0.0</td>\n    </tr>\n    <tr>\n      <th>1</th>\n      <td>7</td>\n      <td>4</td>\n      <td>9</td>\n      <td>1</td>\n      <td>90.6</td>\n      <td>35.4</td>\n      <td>669.1</td>\n      <td>6.7</td>\n      <td>18.0</td>\n      <td>33</td>\n      <td>0.9</td>\n      <td>0.0</td>\n      <td>0.0</td>\n    </tr>\n    <tr>\n      <th>2</th>\n      <td>7</td>\n      <td>4</td>\n      <td>9</td>\n      <td>5</td>\n      <td>90.6</td>\n      <td>43.7</td>\n      <td>686.9</td>\n      <td>6.7</td>\n      <td>14.6</td>\n      <td>33</td>\n      <td>1.3</td>\n      <td>0.0</td>\n      <td>0.0</td>\n    </tr>\n    <tr>\n      <th>3</th>\n      <td>8</td>\n      <td>6</td>\n      <td>2</td>\n      <td>4</td>\n      <td>91.7</td>\n      <td>33.3</td>\n      <td>77.5</td>\n      <td>9.0</td>\n      <td>8.3</td>\n      <td>97</td>\n      <td>4.0</td>\n      <td>0.2</td>\n      <td>0.0</td>\n    </tr>\n    <tr>\n      <th>4</th>\n      <td>8</td>\n      <td>6</td>\n      <td>2</td>\n      <td>6</td>\n      <td>89.3</td>\n      <td>51.3</td>\n      <td>102.2</td>\n      <td>9.6</td>\n      <td>11.4</td>\n      <td>99</td>\n      <td>1.8</td>\n      <td>0.0</td>\n      <td>0.0</td>\n    </tr>\n  </tbody>\n</table>\n</div>"
     },
     "execution_count": 18,
     "metadata": {},
     "output_type": "execute_result"
    }
   ],
   "source": [
    "data.head()"
   ]
  },
  {
   "cell_type": "code",
   "execution_count": 19,
   "metadata": {
    "ExecuteTime": {
     "end_time": "2024-06-05T12:02:10.682592Z",
     "start_time": "2024-06-05T12:02:10.679912Z"
    }
   },
   "outputs": [],
   "source": [
    "# Приступим к построению моделей"
   ]
  },
  {
   "cell_type": "code",
   "execution_count": 20,
   "metadata": {
    "ExecuteTime": {
     "end_time": "2024-06-05T12:02:11.922977Z",
     "start_time": "2024-06-05T12:02:11.302206Z"
    }
   },
   "outputs": [],
   "source": [
    "from sklearn.model_selection import cross_val_score, train_test_split\n",
    "from sklearn.linear_model import LinearRegression   \n",
    "from sklearn.preprocessing import PolynomialFeatures\n",
    "from sklearn.pipeline import Pipeline\n",
    "from sklearn.model_selection import GridSearchCV\n",
    "from sklearn.preprocessing import MinMaxScaler, StandardScaler\n",
    "from sklearn.linear_model import Lasso, Ridge\n",
    "import matplotlib.pyplot as plt"
   ]
  },
  {
   "cell_type": "code",
   "execution_count": 21,
   "metadata": {
    "ExecuteTime": {
     "end_time": "2024-06-05T12:02:11.991552Z",
     "start_time": "2024-06-05T12:02:11.987628Z"
    }
   },
   "outputs": [],
   "source": [
    "X = data.drop(columns=['area'])\n",
    "y = data.area\n",
    "\n",
    "X_train, X_test, y_train, y_test = train_test_split(X, y, train_size = 0.6)"
   ]
  },
  {
   "cell_type": "code",
   "execution_count": 22,
   "metadata": {
    "ExecuteTime": {
     "end_time": "2024-06-05T12:02:12.532738Z",
     "start_time": "2024-06-05T12:02:12.515012Z"
    }
   },
   "outputs": [
    {
     "name": "stdout",
     "output_type": "stream",
     "text": [
      "Обучающая: 0.022771559953436604\n",
      "Тестовая: -0.0018250799404713192\n",
      "Кросс-валидация: -1.8761354431507122\n"
     ]
    }
   ],
   "source": [
    "lin_reg = LinearRegression()\n",
    "lin_reg.fit(X_train, y_train)\n",
    "print('Обучающая:', lin_reg.score(X_train, y_train))\n",
    "print('Тестовая:', lin_reg.score(X_test, y_test))\n",
    "print('Кросс-валидация:', np.mean(cross_val_score(lin_reg, X, y, cv=5)))"
   ]
  },
  {
   "cell_type": "code",
   "execution_count": 23,
   "metadata": {
    "ExecuteTime": {
     "end_time": "2024-06-05T12:02:13.145010Z",
     "start_time": "2024-06-05T12:02:13.142418Z"
    }
   },
   "outputs": [],
   "source": [
    "# Плохие результаты даже на тестовой выборке. Надо ввести многочлены"
   ]
  },
  {
   "cell_type": "code",
   "execution_count": 24,
   "metadata": {
    "ExecuteTime": {
     "end_time": "2024-06-05T12:02:20.555872Z",
     "start_time": "2024-06-05T12:02:13.726779Z"
    }
   },
   "outputs": [
    {
     "name": "stdout",
     "output_type": "stream",
     "text": [
      "-1.876135443150714\n",
      "{'poly__degree': 1}\n"
     ]
    }
   ],
   "source": [
    "pr = Pipeline([('poly', PolynomialFeatures(degree=2)), ('regr', LinearRegression())])\n",
    "\n",
    "param_grid = {'poly__degree': range(1, 5)}\n",
    "\n",
    "grid = GridSearchCV(pr, param_grid, cv=5)\n",
    "\n",
    "grid.fit(X, y)\n",
    "\n",
    "print(grid.best_score_)\n",
    "print(grid.best_params_)"
   ]
  },
  {
   "cell_type": "code",
   "execution_count": 25,
   "metadata": {
    "ExecuteTime": {
     "end_time": "2024-06-05T12:02:20.605877Z",
     "start_time": "2024-06-05T12:02:20.589003Z"
    }
   },
   "outputs": [],
   "source": [
    "# Они ухудшают ситуацию. Нужно ввести в конвейер масштабаторы"
   ]
  },
  {
   "cell_type": "code",
   "execution_count": 26,
   "metadata": {
    "ExecuteTime": {
     "end_time": "2024-06-05T12:02:29.048869Z",
     "start_time": "2024-06-05T12:02:20.613894Z"
    }
   },
   "outputs": [
    {
     "name": "stdout",
     "output_type": "stream",
     "text": [
      "-1.876135443150714\n",
      "{'poly__degree': 1}\n"
     ]
    }
   ],
   "source": [
    "sc_pr = Pipeline([('poly', PolynomialFeatures(degree=2)),\n",
    "                    ('scaler', StandardScaler()),\n",
    "                    ('regr', LinearRegression())])\n",
    "\n",
    "param_grid = {'poly__degree': range(1, 5)}\n",
    "\n",
    "grid = GridSearchCV(pr, param_grid, cv=5)\n",
    "\n",
    "grid.fit(X, y)\n",
    "\n",
    "print(grid.best_score_)\n",
    "print(grid.best_params_)"
   ]
  },
  {
   "cell_type": "code",
   "execution_count": 27,
   "metadata": {
    "ExecuteTime": {
     "end_time": "2024-06-05T12:02:36.170873Z",
     "start_time": "2024-06-05T12:02:29.103460Z"
    }
   },
   "outputs": [
    {
     "name": "stdout",
     "output_type": "stream",
     "text": [
      "-1.876135443150714\n",
      "{'poly__degree': 1}\n"
     ]
    }
   ],
   "source": [
    "sc_pr = Pipeline([('poly', PolynomialFeatures(degree=2)),\n",
    "                    ('scaler', MinMaxScaler()),\n",
    "                    ('regr', LinearRegression())])\n",
    "\n",
    "param_grid = {'poly__degree': range(1, 5)}\n",
    "\n",
    "grid = GridSearchCV(pr, param_grid, cv=5)\n",
    "\n",
    "grid.fit(X, y)\n",
    "\n",
    "print(grid.best_score_)\n",
    "print(grid.best_params_)"
   ]
  },
  {
   "cell_type": "code",
   "execution_count": 28,
   "metadata": {
    "ExecuteTime": {
     "end_time": "2024-06-05T12:02:36.186572Z",
     "start_time": "2024-06-05T12:02:36.180613Z"
    }
   },
   "outputs": [],
   "source": [
    "# Ситуация слишком плоха. Надо узнать почему"
   ]
  },
  {
   "cell_type": "code",
   "execution_count": 29,
   "metadata": {
    "ExecuteTime": {
     "end_time": "2024-06-05T12:02:36.301255Z",
     "start_time": "2024-06-05T12:02:36.189392Z"
    }
   },
   "outputs": [
    {
     "data": {
      "text/plain": "<Figure size 640x480 with 1 Axes>",
      "image/png": "[encoded data removed]"
     },
     "metadata": {},
     "output_type": "display_data"
    }
   ],
   "source": [
    "plt.plot(lin_reg.predict(X), label = 'Предсказание модели')\n",
    "plt.plot(y, label = 'Истиные значения')\n",
    "plt.legend()\n",
    "plt.show()"
   ]
  },
  {
   "cell_type": "code",
   "execution_count": 30,
   "metadata": {
    "ExecuteTime": {
     "end_time": "2024-06-05T12:02:36.304791Z",
     "start_time": "2024-06-05T12:02:36.302282Z"
    }
   },
   "outputs": [],
   "source": [
    "# Модель неплохо предсказывает значения близкие к нулю, но совершенно не отражает большую площадь пожара\n",
    "# Стоит изменить исходные данные, допустим, логарифмическим преобразованием (из-за склонности к нулю)"
   ]
  },
  {
   "cell_type": "code",
   "execution_count": 31,
   "metadata": {
    "ExecuteTime": {
     "end_time": "2024-06-05T12:02:36.308623Z",
     "start_time": "2024-06-05T12:02:36.305651Z"
    }
   },
   "outputs": [],
   "source": [
    "import math\n",
    "\n",
    "data1 = data.copy(deep=True)\n",
    "\n",
    "data1.area = data.area.apply(lambda x: math.log10(x) if x > 0 else x)"
   ]
  },
  {
   "cell_type": "code",
   "execution_count": 32,
   "metadata": {
    "ExecuteTime": {
     "end_time": "2024-06-05T12:02:36.397044Z",
     "start_time": "2024-06-05T12:02:36.309533Z"
    }
   },
   "outputs": [
    {
     "data": {
      "text/plain": "<Axes: >"
     },
     "execution_count": 32,
     "metadata": {},
     "output_type": "execute_result"
    },
    {
     "data": {
      "text/plain": "<Figure size 640x480 with 1 Axes>",
      "image/png": "[encoded data removed]"
     },
     "metadata": {},
     "output_type": "display_data"
    }
   ],
   "source": [
    "data1.area.hist()"
   ]
  },
  {
   "cell_type": "code",
   "execution_count": 33,
   "metadata": {
    "ExecuteTime": {
     "end_time": "2024-06-05T12:02:36.407482Z",
     "start_time": "2024-06-05T12:02:36.402795Z"
    }
   },
   "outputs": [],
   "source": [
    "X1 = data1.drop(columns=['area'])\n",
    "y1 = data1.area\n",
    "\n",
    "X_train, X_test, y_train, y_test = train_test_split(X1, y1, train_size = 0.6)"
   ]
  },
  {
   "cell_type": "code",
   "execution_count": 34,
   "metadata": {
    "ExecuteTime": {
     "end_time": "2024-06-05T12:02:36.427342Z",
     "start_time": "2024-06-05T12:02:36.408558Z"
    }
   },
   "outputs": [
    {
     "name": "stdout",
     "output_type": "stream",
     "text": [
      "Обучающая: 0.047586099796043\n",
      "Тестовая: -0.2009304989605143\n",
      "Кросс-валидация: -0.227901500396694\n"
     ]
    }
   ],
   "source": [
    "lin_reg = LinearRegression()\n",
    "lin_reg.fit(X_train, y_train)\n",
    "print('Обучающая:', lin_reg.score(X_train, y_train))\n",
    "print('Тестовая:', lin_reg.score(X_test, y_test))\n",
    "print('Кросс-валидация:', np.mean(cross_val_score(lin_reg, X1, y1, cv=5)))"
   ]
  },
  {
   "cell_type": "code",
   "execution_count": 35,
   "metadata": {
    "ExecuteTime": {
     "end_time": "2024-06-05T12:02:36.431962Z",
     "start_time": "2024-06-05T12:02:36.428919Z"
    }
   },
   "outputs": [],
   "source": [
    "# Стало немного лучше, но этого недостаточно"
   ]
  },
  {
   "cell_type": "code",
   "execution_count": 36,
   "metadata": {
    "ExecuteTime": {
     "end_time": "2024-06-05T12:02:36.521327Z",
     "start_time": "2024-06-05T12:02:36.432605Z"
    }
   },
   "outputs": [
    {
     "data": {
      "text/plain": "<Figure size 640x480 with 1 Axes>",
      "image/png": "[encoded data removed]"
     },
     "metadata": {},
     "output_type": "display_data"
    }
   ],
   "source": [
    "plt.plot(lin_reg.predict(X1), label = 'Предсказание модели')\n",
    "plt.plot(y1, label = 'Истинные значения')\n",
    "plt.legend()\n",
    "plt.show()"
   ]
  },
  {
   "cell_type": "code",
   "execution_count": 37,
   "metadata": {
    "ExecuteTime": {
     "end_time": "2024-06-05T12:02:36.527909Z",
     "start_time": "2024-06-05T12:02:36.523501Z"
    }
   },
   "outputs": [],
   "source": [
    "# Истинные значения выглядят намного хуже\n",
    "# Возможно, максимальные значения целевого признака впринципе невозможно предсказать"
   ]
  },
  {
   "cell_type": "code",
   "execution_count": 38,
   "metadata": {
    "ExecuteTime": {
     "end_time": "2024-06-05T12:02:36.534143Z",
     "start_time": "2024-06-05T12:02:36.528782Z"
    }
   },
   "outputs": [],
   "source": [
    "data2 = data.loc[data['area'] < 10]\n",
    "\n",
    "X2 = data2.drop(columns=['area'])\n",
    "y2 = data2.area\n",
    "\n",
    "X_train, X_test, y_train, y_test = train_test_split(X2, y2, train_size = 0.6)"
   ]
  },
  {
   "cell_type": "code",
   "execution_count": 39,
   "metadata": {
    "ExecuteTime": {
     "end_time": "2024-06-05T12:02:36.559774Z",
     "start_time": "2024-06-05T12:02:36.535050Z"
    }
   },
   "outputs": [
    {
     "name": "stdout",
     "output_type": "stream",
     "text": [
      "Обучающая: 0.023937605623302605\n",
      "Тестовая: -0.03798680270906374\n",
      "Кросс-валидация: -1.1610522821236595\n"
     ]
    }
   ],
   "source": [
    "lin_reg = LinearRegression()\n",
    "lin_reg.fit(X_train, y_train)\n",
    "print('Обучающая:', lin_reg.score(X_train, y_train))\n",
    "print('Тестовая:', lin_reg.score(X_test, y_test))\n",
    "print('Кросс-валидация:', np.mean(cross_val_score(lin_reg, X2, y2, cv=5)))"
   ]
  },
  {
   "cell_type": "code",
   "execution_count": 40,
   "metadata": {
    "ExecuteTime": {
     "end_time": "2024-06-05T12:02:36.684961Z",
     "start_time": "2024-06-05T12:02:36.562911Z"
    }
   },
   "outputs": [
    {
     "data": {
      "text/plain": "<Figure size 640x480 with 1 Axes>",
      "image/png": "[encoded data removed]"
     },
     "metadata": {},
     "output_type": "display_data"
    }
   ],
   "source": [
    "plt.plot(lin_reg.predict(X2), label = 'Предсказание модели')\n",
    "plt.plot(y2, label = 'Истинные значения')\n",
    "plt.legend()\n",
    "plt.show()"
   ]
  },
  {
   "cell_type": "code",
   "execution_count": 41,
   "metadata": {
    "ExecuteTime": {
     "end_time": "2024-06-05T12:02:36.693512Z",
     "start_time": "2024-06-05T12:02:36.687072Z"
    }
   },
   "outputs": [],
   "source": [
    "X_train, X_test, y_train, y_test = train_test_split(X, y, train_size = 0.6)"
   ]
  },
  {
   "cell_type": "code",
   "execution_count": 42,
   "metadata": {
    "ExecuteTime": {
     "end_time": "2024-06-05T12:02:36.698102Z",
     "start_time": "2024-06-05T12:02:36.694463Z"
    }
   },
   "outputs": [],
   "source": [
    "# Стоит попробовать другие модели на исходных данных"
   ]
  },
  {
   "cell_type": "code",
   "execution_count": 43,
   "metadata": {
    "ExecuteTime": {
     "end_time": "2024-06-05T12:02:36.725597Z",
     "start_time": "2024-06-05T12:02:36.700405Z"
    }
   },
   "outputs": [
    {
     "name": "stdout",
     "output_type": "stream",
     "text": [
      "Обучающая: 0.03499726163500194\n",
      "Тестовая: -0.9184751329719814\n",
      "Кросс-валидация: -1.6733339040221005\n"
     ]
    }
   ],
   "source": [
    "las = Lasso()\n",
    "las.fit(X_train, y_train)\n",
    "print('Обучающая:', las.score(X_train, y_train))\n",
    "print('Тестовая:', las.score(X_test, y_test))\n",
    "print('Кросс-валидация:', np.mean(cross_val_score(las, X, y, cv=5)))"
   ]
  },
  {
   "cell_type": "code",
   "execution_count": 44,
   "metadata": {
    "ExecuteTime": {
     "end_time": "2024-06-05T12:02:36.753913Z",
     "start_time": "2024-06-05T12:02:36.727595Z"
    }
   },
   "outputs": [
    {
     "name": "stdout",
     "output_type": "stream",
     "text": [
      "Обучающая: 0.03567327868700021\n",
      "Тестовая: -0.9969937967466653\n",
      "Кросс-валидация: -1.8736634037122317\n"
     ]
    }
   ],
   "source": [
    "rid = Ridge()\n",
    "rid.fit(X_train, y_train)\n",
    "print('Обучающая:', rid.score(X_train, y_train))\n",
    "print('Тестовая:', rid.score(X_test, y_test))\n",
    "print('Кросс-валидация:', np.mean(cross_val_score(rid, X, y, cv=5)))"
   ]
  },
  {
   "cell_type": "code",
   "execution_count": 45,
   "metadata": {
    "ExecuteTime": {
     "end_time": "2024-06-05T12:02:36.762191Z",
     "start_time": "2024-06-05T12:02:36.756031Z"
    }
   },
   "outputs": [],
   "source": [
    "# Почти та же самая ситуация\n",
    "# Далее те же модели обучаются на логарифмических данных"
   ]
  },
  {
   "cell_type": "code",
   "execution_count": 46,
   "metadata": {
    "ExecuteTime": {
     "end_time": "2024-06-05T12:02:36.767661Z",
     "start_time": "2024-06-05T12:02:36.763283Z"
    }
   },
   "outputs": [],
   "source": [
    "X_train, X_test, y_train, y_test = train_test_split(X1, y1, train_size = 0.6)"
   ]
  },
  {
   "cell_type": "code",
   "execution_count": 47,
   "metadata": {
    "ExecuteTime": {
     "end_time": "2024-06-05T12:02:36.793903Z",
     "start_time": "2024-06-05T12:02:36.769812Z"
    }
   },
   "outputs": [
    {
     "name": "stdout",
     "output_type": "stream",
     "text": [
      "Обучающая: 0.009121924202751819\n",
      "Тестовая: -0.023836713943163668\n",
      "Кросс-валидация: -0.07451509716213774\n"
     ]
    }
   ],
   "source": [
    "las = Lasso()\n",
    "las.fit(X_train, y_train)\n",
    "print('Обучающая:', las.score(X_train, y_train))\n",
    "print('Тестовая:', las.score(X_test, y_test))\n",
    "print('Кросс-валидация:', np.mean(cross_val_score(las, X1, y1, cv=5)))"
   ]
  },
  {
   "cell_type": "code",
   "execution_count": 48,
   "metadata": {
    "ExecuteTime": {
     "end_time": "2024-06-05T12:02:36.813653Z",
     "start_time": "2024-06-05T12:02:36.795622Z"
    }
   },
   "outputs": [
    {
     "name": "stdout",
     "output_type": "stream",
     "text": [
      "Обучающая: 0.046377733416807065\n",
      "Тестовая: -0.04644622008411203\n",
      "Кросс-валидация: -0.18993155706007853\n"
     ]
    }
   ],
   "source": [
    "rid = Ridge()\n",
    "rid.fit(X_train, y_train)\n",
    "print('Обучающая:', rid.score(X_train, y_train))\n",
    "print('Тестовая:', rid.score(X_test, y_test))\n",
    "print('Кросс-валидация:', np.mean(cross_val_score(rid, X1, y1, cv=5)))"
   ]
  },
  {
   "cell_type": "code",
   "execution_count": 49,
   "metadata": {
    "ExecuteTime": {
     "end_time": "2024-06-05T12:02:37.065528Z",
     "start_time": "2024-06-05T12:02:36.814530Z"
    }
   },
   "outputs": [
    {
     "name": "stdout",
     "output_type": "stream",
     "text": [
      "-1.9117878137015178\n",
      "{'poly__degree': 1}\n"
     ]
    },
    {
     "name": "stderr",
     "output_type": "stream",
     "text": [
      "/Users/hass/Documents/Code/ML/.venv/lib/python3.10/site-packages/sklearn/linear_model/_coordinate_descent.py:697: ConvergenceWarning: Objective did not converge. You might want to increase the number of iterations, check the scale of the features or consider increasing regularisation. Duality gap: 8.225e+01, tolerance: 1.909e-02\n",
      "  model = cd_fast.enet_coordinate_descent(\n",
      "/Users/hass/Documents/Code/ML/.venv/lib/python3.10/site-packages/sklearn/linear_model/_coordinate_descent.py:697: ConvergenceWarning: Objective did not converge. You might want to increase the number of iterations, check the scale of the features or consider increasing regularisation. Duality gap: 7.748e+01, tolerance: 1.909e-02\n",
      "  model = cd_fast.enet_coordinate_descent(\n",
      "/Users/hass/Documents/Code/ML/.venv/lib/python3.10/site-packages/sklearn/linear_model/_coordinate_descent.py:697: ConvergenceWarning: Objective did not converge. You might want to increase the number of iterations, check the scale of the features or consider increasing regularisation. Duality gap: 7.937e+01, tolerance: 1.893e-02\n",
      "  model = cd_fast.enet_coordinate_descent(\n",
      "/Users/hass/Documents/Code/ML/.venv/lib/python3.10/site-packages/sklearn/linear_model/_coordinate_descent.py:697: ConvergenceWarning: Objective did not converge. You might want to increase the number of iterations, check the scale of the features or consider increasing regularisation. Duality gap: 7.205e+01, tolerance: 1.906e-02\n",
      "  model = cd_fast.enet_coordinate_descent(\n",
      "/Users/hass/Documents/Code/ML/.venv/lib/python3.10/site-packages/sklearn/linear_model/_coordinate_descent.py:697: ConvergenceWarning: Objective did not converge. You might want to increase the number of iterations, check the scale of the features or consider increasing regularisation. Duality gap: 3.142e+01, tolerance: 1.322e-02\n",
      "  model = cd_fast.enet_coordinate_descent(\n",
      "/Users/hass/Documents/Code/ML/.venv/lib/python3.10/site-packages/sklearn/linear_model/_coordinate_descent.py:697: ConvergenceWarning: Objective did not converge. You might want to increase the number of iterations, check the scale of the features or consider increasing regularisation. Duality gap: 7.810e+01, tolerance: 1.847e-02\n",
      "  model = cd_fast.enet_coordinate_descent(\n",
      "/Users/hass/Documents/Code/ML/.venv/lib/python3.10/site-packages/sklearn/linear_model/_coordinate_descent.py:697: ConvergenceWarning: Objective did not converge. You might want to increase the number of iterations, check the scale of the features or consider increasing regularisation. Duality gap: 8.065e+01, tolerance: 1.896e-02\n",
      "  model = cd_fast.enet_coordinate_descent(\n",
      "/Users/hass/Documents/Code/ML/.venv/lib/python3.10/site-packages/sklearn/linear_model/_coordinate_descent.py:697: ConvergenceWarning: Objective did not converge. You might want to increase the number of iterations, check the scale of the features or consider increasing regularisation. Duality gap: 6.684e+01, tolerance: 1.782e-02\n",
      "  model = cd_fast.enet_coordinate_descent(\n",
      "/Users/hass/Documents/Code/ML/.venv/lib/python3.10/site-packages/sklearn/linear_model/_coordinate_descent.py:697: ConvergenceWarning: Objective did not converge. You might want to increase the number of iterations, check the scale of the features or consider increasing regularisation. Duality gap: 7.515e+01, tolerance: 1.810e-02\n",
      "  model = cd_fast.enet_coordinate_descent(\n",
      "/Users/hass/Documents/Code/ML/.venv/lib/python3.10/site-packages/sklearn/linear_model/_coordinate_descent.py:697: ConvergenceWarning: Objective did not converge. You might want to increase the number of iterations, check the scale of the features or consider increasing regularisation. Duality gap: 6.862e+01, tolerance: 1.755e-02\n",
      "  model = cd_fast.enet_coordinate_descent(\n"
     ]
    }
   ],
   "source": [
    "pr = Pipeline([('poly', PolynomialFeatures(degree=2)), ('regr', Lasso())])\n",
    "\n",
    "param_grid = {'poly__degree': range(1, 3)}\n",
    "\n",
    "grid = GridSearchCV(pr, param_grid, cv=10)\n",
    "\n",
    "grid.fit(X1, y1)\n",
    "\n",
    "print(grid.best_score_)\n",
    "print(grid.best_params_)"
   ]
  },
  {
   "cell_type": "code",
   "execution_count": 50,
   "metadata": {
    "ExecuteTime": {
     "end_time": "2024-06-05T12:02:39.787851Z",
     "start_time": "2024-06-05T12:02:37.066637Z"
    }
   },
   "outputs": [
    {
     "name": "stdout",
     "output_type": "stream",
     "text": [
      "-2.2138782040176297\n",
      "{'poly__degree': 1}\n"
     ]
    }
   ],
   "source": [
    "pr = Pipeline([('poly', PolynomialFeatures(degree=2)), ('regr', Ridge())])\n",
    "\n",
    "param_grid = {'poly__degree': range(1, 3)}\n",
    "\n",
    "grid = GridSearchCV(pr, param_grid, cv=10)\n",
    "\n",
    "grid.fit(X1, y1)\n",
    "\n",
    "print(grid.best_score_)\n",
    "print(grid.best_params_)"
   ]
  },
  {
   "cell_type": "code",
   "execution_count": 51,
   "metadata": {
    "ExecuteTime": {
     "end_time": "2024-06-05T12:02:40.018546Z",
     "start_time": "2024-06-05T12:02:39.841027Z"
    }
   },
   "outputs": [
    {
     "name": "stdout",
     "output_type": "stream",
     "text": [
      "-2.2447222198101735\n",
      "{'poly__degree': 1}\n"
     ]
    }
   ],
   "source": [
    "sc = Pipeline([('poly', PolynomialFeatures(degree=2)),\n",
    "                    ('scaler', StandardScaler()),\n",
    "                    ('regr', LinearRegression())])\n",
    "\n",
    "param_grid = {'poly__degree': range(1, 3)}\n",
    "\n",
    "grid = GridSearchCV(sc, param_grid, cv=10)\n",
    "\n",
    "grid.fit(X1, y1)\n",
    "\n",
    "print(grid.best_score_)\n",
    "print(grid.best_params_)"
   ]
  },
  {
   "cell_type": "code",
   "execution_count": 52,
   "metadata": {
    "ExecuteTime": {
     "end_time": "2024-06-05T12:02:40.262295Z",
     "start_time": "2024-06-05T12:02:40.046326Z"
    }
   },
   "outputs": [
    {
     "name": "stdout",
     "output_type": "stream",
     "text": [
      "-2.2447222198101895\n",
      "{'poly__degree': 1}\n"
     ]
    }
   ],
   "source": [
    "sc = Pipeline([('poly', PolynomialFeatures(degree=2)),\n",
    "                    ('scaler', MinMaxScaler()),\n",
    "                    ('regr', LinearRegression())])\n",
    "\n",
    "param_grid = {'poly__degree': range(1, 3)}\n",
    "\n",
    "grid = GridSearchCV(sc, param_grid, cv=10)\n",
    "\n",
    "grid.fit(X1, y1)\n",
    "\n",
    "print(grid.best_score_)\n",
    "print(grid.best_params_)"
   ]
  },
  {
   "cell_type": "code",
   "execution_count": 53,
   "metadata": {
    "ExecuteTime": {
     "end_time": "2024-06-05T12:02:40.442184Z",
     "start_time": "2024-06-05T12:02:40.267256Z"
    }
   },
   "outputs": [
    {
     "name": "stdout",
     "output_type": "stream",
     "text": [
      "-2.2447222198101833\n",
      "{'poly__degree': 1}\n"
     ]
    }
   ],
   "source": [
    "pr = Pipeline([('poly', PolynomialFeatures(degree=2)), ('regr', LinearRegression())])\n",
    "\n",
    "param_grid = {'poly__degree': range(1, 3)}\n",
    "\n",
    "grid = GridSearchCV(pr, param_grid, cv=10)\n",
    "\n",
    "grid.fit(X1, y1)\n",
    "\n",
    "print(grid.best_score_)\n",
    "print(grid.best_params_)"
   ]
  },
  {
   "cell_type": "code",
   "execution_count": 54,
   "metadata": {
    "ExecuteTime": {
     "end_time": "2024-06-05T12:02:40.492516Z",
     "start_time": "2024-06-05T12:02:40.462229Z"
    }
   },
   "outputs": [],
   "source": [
    "# И на минимальных данных"
   ]
  },
  {
   "cell_type": "code",
   "execution_count": 55,
   "metadata": {
    "ExecuteTime": {
     "end_time": "2024-06-05T12:02:40.512830Z",
     "start_time": "2024-06-05T12:02:40.506282Z"
    }
   },
   "outputs": [],
   "source": [
    "X_train, X_test, y_train, y_test = train_test_split(X2, y2, train_size = 0.6)"
   ]
  },
  {
   "cell_type": "code",
   "execution_count": 56,
   "metadata": {
    "ExecuteTime": {
     "end_time": "2024-06-05T12:02:40.539539Z",
     "start_time": "2024-06-05T12:02:40.514949Z"
    }
   },
   "outputs": [
    {
     "name": "stdout",
     "output_type": "stream",
     "text": [
      "Обучающая: 0.0007963637785579625\n",
      "Тестовая: -0.018600662380851007\n",
      "Кросс-валидация: -0.6604804688755521\n"
     ]
    }
   ],
   "source": [
    "las = Lasso()\n",
    "las.fit(X_train, y_train)\n",
    "print('Обучающая:', las.score(X_train, y_train))\n",
    "print('Тестовая:', las.score(X_test, y_test))\n",
    "print('Кросс-валидация:', np.mean(cross_val_score(las, X2, y2, cv=5)))"
   ]
  },
  {
   "cell_type": "code",
   "execution_count": 57,
   "metadata": {
    "ExecuteTime": {
     "end_time": "2024-06-05T12:02:40.563248Z",
     "start_time": "2024-06-05T12:02:40.541288Z"
    }
   },
   "outputs": [
    {
     "name": "stdout",
     "output_type": "stream",
     "text": [
      "Обучающая: 0.05344716045675757\n",
      "Тестовая: -0.06265055120402407\n",
      "Кросс-валидация: -1.1596442811924768\n"
     ]
    }
   ],
   "source": [
    "rid = Ridge()\n",
    "rid.fit(X_train, y_train)\n",
    "print('Обучающая:', rid.score(X_train, y_train))\n",
    "print('Тестовая:', rid.score(X_test, y_test))\n",
    "print('Кросс-валидация:', np.mean(cross_val_score(rid, X2, y2, cv=5)))"
   ]
  },
  {
   "cell_type": "code",
   "execution_count": 58,
   "metadata": {
    "ExecuteTime": {
     "end_time": "2024-06-05T12:02:40.569820Z",
     "start_time": "2024-06-05T12:02:40.566358Z"
    }
   },
   "outputs": [],
   "source": [
    "# \"Лучшие\" результаты - на логарифмических\n",
    "# Но в целом они плохие\n",
    "# Далее идёт настройка гиперпараметров"
   ]
  },
  {
   "cell_type": "code",
   "execution_count": 59,
   "metadata": {
    "ExecuteTime": {
     "end_time": "2024-06-05T12:02:40.600506Z",
     "start_time": "2024-06-05T12:02:40.574074Z"
    }
   },
   "outputs": [
    {
     "name": "stdout",
     "output_type": "stream",
     "text": [
      "Обучающая: 0.0007963637785579625\n",
      "Тестовая: -0.018600662380851007\n",
      "Кросс-валидация: -0.6604804688755521\n"
     ]
    }
   ],
   "source": [
    "las = Lasso(alpha=1)\n",
    "las.fit(X_train, y_train)\n",
    "print('Обучающая:', las.score(X_train, y_train))\n",
    "print('Тестовая:', las.score(X_test, y_test))\n",
    "print('Кросс-валидация:', np.mean(cross_val_score(las, X2, y2, cv=5)))"
   ]
  },
  {
   "cell_type": "code",
   "execution_count": 60,
   "metadata": {
    "ExecuteTime": {
     "end_time": "2024-06-05T12:02:40.611154Z",
     "start_time": "2024-06-05T12:02:40.604917Z"
    }
   },
   "outputs": [],
   "source": [
    "# Стало хуже. По умолчанию альфа - 0, с 1 стало хуже. Значит лучшее значение - 0"
   ]
  },
  {
   "cell_type": "code",
   "execution_count": 61,
   "metadata": {
    "ExecuteTime": {
     "end_time": "2024-06-05T12:02:40.697022Z",
     "start_time": "2024-06-05T12:02:40.618865Z"
    }
   },
   "outputs": [
    {
     "name": "stdout",
     "output_type": "stream",
     "text": [
      "Обучающая: 0.0007925215814851283\n",
      "Тестовая: -0.018572173538262682\n",
      "Кросс-валидация: -0.6604943017170519\n"
     ]
    }
   ],
   "source": [
    "las = Lasso(tol=1e-2)\n",
    "las.fit(X_train, y_train)\n",
    "print('Обучающая:', las.score(X_train, y_train))\n",
    "print('Тестовая:', las.score(X_test, y_test))\n",
    "print('Кросс-валидация:', np.mean(cross_val_score(las, X2, y2, cv=5)))"
   ]
  },
  {
   "cell_type": "code",
   "execution_count": 62,
   "metadata": {
    "ExecuteTime": {
     "end_time": "2024-06-05T12:02:40.714468Z",
     "start_time": "2024-06-05T12:02:40.697943Z"
    }
   },
   "outputs": [
    {
     "name": "stdout",
     "output_type": "stream",
     "text": [
      "Обучающая: 0.0007963962371363431\n",
      "Тестовая: -0.01860090518948554\n",
      "Кросс-валидация: -0.6604803694868073\n"
     ]
    }
   ],
   "source": [
    "las = Lasso(tol=1e-6)\n",
    "las.fit(X_train, y_train)\n",
    "print('Обучающая:', las.score(X_train, y_train))\n",
    "print('Тестовая:', las.score(X_test, y_test))\n",
    "print('Кросс-валидация:', np.mean(cross_val_score(las, X2, y2, cv=5)))"
   ]
  },
  {
   "cell_type": "code",
   "execution_count": 63,
   "metadata": {
    "ExecuteTime": {
     "end_time": "2024-06-05T12:02:40.717615Z",
     "start_time": "2024-06-05T12:02:40.715330Z"
    }
   },
   "outputs": [],
   "source": [
    "# Параметр tol ни на что не влияет. Остаётся по умолчанию"
   ]
  },
  {
   "cell_type": "code",
   "execution_count": 64,
   "metadata": {
    "ExecuteTime": {
     "end_time": "2024-06-05T12:02:40.734259Z",
     "start_time": "2024-06-05T12:02:40.718434Z"
    }
   },
   "outputs": [
    {
     "name": "stdout",
     "output_type": "stream",
     "text": [
      "Обучающая: 0.05344716045675757\n",
      "Тестовая: -0.06265055120402407\n",
      "Кросс-валидация: -1.1596442811924768\n"
     ]
    }
   ],
   "source": [
    "rid = Ridge(alpha=1)\n",
    "rid.fit(X_train, y_train)\n",
    "print('Обучающая:', rid.score(X_train, y_train))\n",
    "print('Тестовая:', rid.score(X_test, y_test))\n",
    "print('Кросс-валидация:', np.mean(cross_val_score(rid, X2, y2, cv=5)))"
   ]
  },
  {
   "cell_type": "code",
   "execution_count": 65,
   "metadata": {
    "ExecuteTime": {
     "end_time": "2024-06-05T12:02:40.750208Z",
     "start_time": "2024-06-05T12:02:40.735084Z"
    }
   },
   "outputs": [
    {
     "name": "stdout",
     "output_type": "stream",
     "text": [
      "Обучающая: 0.052103932746549675\n",
      "Тестовая: -0.06201436731006282\n",
      "Кросс-валидация: -1.1478035188513576\n"
     ]
    }
   ],
   "source": [
    "rid = Ridge(alpha=10)\n",
    "rid.fit(X_train, y_train)\n",
    "print('Обучающая:', rid.score(X_train, y_train))\n",
    "print('Тестовая:', rid.score(X_test, y_test))\n",
    "print('Кросс-валидация:', np.mean(cross_val_score(rid, X2, y2, cv=5)))"
   ]
  },
  {
   "cell_type": "code",
   "execution_count": 66,
   "metadata": {
    "ExecuteTime": {
     "end_time": "2024-06-05T12:02:40.753337Z",
     "start_time": "2024-06-05T12:02:40.751307Z"
    }
   },
   "outputs": [],
   "source": [
    "# Изменение альфа ухудшает результат"
   ]
  },
  {
   "cell_type": "code",
   "execution_count": 67,
   "metadata": {
    "ExecuteTime": {
     "end_time": "2024-06-05T12:02:40.769910Z",
     "start_time": "2024-06-05T12:02:40.754347Z"
    }
   },
   "outputs": [
    {
     "name": "stdout",
     "output_type": "stream",
     "text": [
      "Обучающая: 0.05344716045675757\n",
      "Тестовая: -0.06265055120402407\n",
      "Кросс-валидация: -1.1596442811924768\n"
     ]
    }
   ],
   "source": [
    "rid = Ridge(tol=1e-2)\n",
    "rid.fit(X_train, y_train)\n",
    "print('Обучающая:', rid.score(X_train, y_train))\n",
    "print('Тестовая:', rid.score(X_test, y_test))\n",
    "print('Кросс-валидация:', np.mean(cross_val_score(rid, X2, y2, cv=5)))"
   ]
  },
  {
   "cell_type": "code",
   "execution_count": 68,
   "metadata": {
    "ExecuteTime": {
     "end_time": "2024-06-05T12:02:40.788837Z",
     "start_time": "2024-06-05T12:02:40.770960Z"
    }
   },
   "outputs": [
    {
     "name": "stdout",
     "output_type": "stream",
     "text": [
      "Обучающая: 0.05344716045675757\n",
      "Тестовая: -0.06265055120402407\n",
      "Кросс-валидация: -1.1596442811924768\n"
     ]
    }
   ],
   "source": [
    "rid = Ridge(tol=1e-6)\n",
    "rid.fit(X_train, y_train)\n",
    "print('Обучающая:', rid.score(X_train, y_train))\n",
    "print('Тестовая:', rid.score(X_test, y_test))\n",
    "print('Кросс-валидация:', np.mean(cross_val_score(rid, X2, y2, cv=5)))"
   ]
  },
  {
   "cell_type": "code",
   "execution_count": 69,
   "metadata": {
    "ExecuteTime": {
     "end_time": "2024-06-05T12:02:40.791544Z",
     "start_time": "2024-06-05T12:02:40.789674Z"
    }
   },
   "outputs": [],
   "source": [
    "# Параметр tol ни на что не влияет"
   ]
  },
  {
   "cell_type": "code",
   "execution_count": 70,
   "metadata": {
    "ExecuteTime": {
     "end_time": "2024-06-05T12:02:40.794180Z",
     "start_time": "2024-06-05T12:02:40.792300Z"
    }
   },
   "outputs": [],
   "source": [
    "# Можно подвести следующие итоги\n",
    "# Данный датасет плохо подходит для построения моделей\n",
    "# В нём мало строк, а целевой признак почти везде - 0. \n",
    "# Не спасает даже логарифмическое преобразование, которое советуется в данных случаях\n",
    "# Редкие значения не равные 0 иногда слишком велики, чтобы модель могла адекватно их предсказать\n",
    "# Возникновение пожара, возможно, вообще нельзя предсказать по этим данным, так как не наблюдается заномерности в них\n",
    "# По матрице корреляций можно заметить небольшую зависимоть от температуры, но она не настолько ярко выражена, \n",
    "# чтобы моделовать значения и 0, и 10, и 1000\n",
    "#\n",
    "# В итоге лучшими моделями оказались Lasso и Ridge с предварительным логарифмическим преобразованием данных,\n",
    "# однако их результаты далеки от желаемых"
   ]
  }
 ],
 "metadata": {
  "kernelspec": {
   "display_name": "Python 3",
   "language": "python",
   "name": "python3"
  },
  "language_info": {
   "codemirror_mode": {
    "name": "ipython",
    "version": 3
   },
   "file_extension": ".py",
   "mimetype": "text/x-python",
   "name": "python",
   "nbconvert_exporter": "python",
   "pygments_lexer": "ipython3",
   "version": "3.12.3"
  }
 },
 "nbformat": 4,
 "nbformat_minor": 2
}
