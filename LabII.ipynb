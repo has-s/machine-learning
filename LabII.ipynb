{
 "cells": [
  {
   "cell_type": "code",
   "execution_count": 31,
   "id": "initial_id",
   "metadata": {
    "collapsed": true,
    "ExecuteTime": {
     "end_time": "2024-05-12T15:52:01.338548Z",
     "start_time": "2024-05-12T15:52:01.336341Z"
    }
   },
   "outputs": [],
   "source": [
    "import numpy as np\n",
    "import pandas as pd\n",
    "import matplotlib.pyplot as plt\n"
   ]
  },
  {
   "cell_type": "code",
   "outputs": [
    {
     "name": "stdout",
     "output_type": "stream",
     "text": [
      "<class 'pandas.core.frame.DataFrame'>\n",
      "RangeIndex: 1573 entries, 0 to 1572\n",
      "Data columns (total 7 columns):\n",
      " #   Column        Non-Null Count  Dtype  \n",
      "---  ------        --------------  -----  \n",
      " 0   Район         1572 non-null   object \n",
      " 1   Число комнат  1570 non-null   float64\n",
      " 2   Тип_дома      1572 non-null   object \n",
      " 3   Общая         1571 non-null   float64\n",
      " 4   Жилая         1569 non-null   float64\n",
      " 5   Кухня         1567 non-null   float64\n",
      " 6   цена          1573 non-null   object \n",
      "dtypes: float64(4), object(3)\n",
      "memory usage: 86.1+ KB\n"
     ]
    }
   ],
   "source": [
    "data = pd.read_csv('Datasets/estateclass.csv')\n",
    "data.info()"
   ],
   "metadata": {
    "collapsed": false,
    "ExecuteTime": {
     "end_time": "2024-05-12T15:52:02.340844Z",
     "start_time": "2024-05-12T15:52:02.335270Z"
    }
   },
   "id": "186ec1fccb505ddc",
   "execution_count": 32
  },
  {
   "cell_type": "markdown",
   "source": [
    "Задание:\n",
    "1. Загрузить указанный датасет, содержащий сведения о недвижимости.\n",
    "2. Построить модель, которая прогнозирует класс стоимости квартиры по ее характеристикам.\n",
    "Для оценки качества модели использовать метрику Accuracy.\n",
    "3. Описать выводы и обосновать основные решения (выбор типа модели, гиперпараметров)"
   ],
   "metadata": {
    "collapsed": false
   },
   "id": "ecc5b8d68bfd6222"
  },
  {
   "cell_type": "code",
   "outputs": [],
   "source": [
    "data = pd.get_dummies(data, columns=['цена'], prefix=['цена'])\n",
    "data = pd.get_dummies(data, columns=['Район'], prefix=['Район'])\n",
    "data = pd.get_dummies(data, columns=['Тип_дома'], prefix=['Тип_дома'])\n",
    "data = data.dropna()"
   ],
   "metadata": {
    "collapsed": false,
    "ExecuteTime": {
     "end_time": "2024-05-12T15:52:04.376378Z",
     "start_time": "2024-05-12T15:52:04.364694Z"
    }
   },
   "id": "bc8533b672b84320",
   "execution_count": 33
  },
  {
   "cell_type": "code",
   "outputs": [
    {
     "name": "stdout",
     "output_type": "stream",
     "text": [
      "<class 'pandas.core.frame.DataFrame'>\n",
      "Index: 1562 entries, 0 to 1572\n",
      "Data columns (total 36 columns):\n",
      " #   Column                 Non-Null Count  Dtype  \n",
      "---  ------                 --------------  -----  \n",
      " 0   Число комнат           1562 non-null   float64\n",
      " 1   Общая                  1562 non-null   float64\n",
      " 2   Жилая                  1562 non-null   float64\n",
      " 3   Кухня                  1562 non-null   float64\n",
      " 4   цена_высокая           1562 non-null   bool   \n",
      " 5   цена_низкая            1562 non-null   bool   \n",
      " 6   цена_средняя           1562 non-null   bool   \n",
      " 7   Район_40-летПобеды     1562 non-null   bool   \n",
      " 8   Район_Авиагородок      1562 non-null   bool   \n",
      " 9   Район_Витаминкомбинат  1562 non-null   bool   \n",
      " 10  Район_ГМР              1562 non-null   bool   \n",
      " 11  Район_ЖМР              1562 non-null   bool   \n",
      " 12  Район_ЗИП              1562 non-null   bool   \n",
      " 13  Район_ККБ              1562 non-null   bool   \n",
      " 14  Район_КМР              1562 non-null   bool   \n",
      " 15  Район_КСК              1562 non-null   bool   \n",
      " 16  Район_Мосты            1562 non-null   bool   \n",
      " 17  Район_ПМР              1562 non-null   bool   \n",
      " 18  Район_Пригород         1562 non-null   bool   \n",
      " 19  Район_Рос-кая          1562 non-null   bool   \n",
      " 20  Район_СМР              1562 non-null   bool   \n",
      " 21  Район_СХИ              1562 non-null   bool   \n",
      " 22  Район_ТЭЦ              1562 non-null   bool   \n",
      " 23  Район_Ф.Таб            1562 non-null   bool   \n",
      " 24  Район_ФМР              1562 non-null   bool   \n",
      " 25  Район_Центр            1562 non-null   bool   \n",
      " 26  Район_ЧМР              1562 non-null   bool   \n",
      " 27  Район_Школьная         1562 non-null   bool   \n",
      " 28  Район_Энка             1562 non-null   bool   \n",
      " 29  Район_ЮМР              1562 non-null   bool   \n",
      " 30  Тип_дома_блочный       1562 non-null   bool   \n",
      " 31  Тип_дома_блочный       1562 non-null   bool   \n",
      " 32  Тип_дома_каркасный     1562 non-null   bool   \n",
      " 33  Тип_дома_кирпичный     1562 non-null   bool   \n",
      " 34  Тип_дома_монолитный    1562 non-null   bool   \n",
      " 35  Тип_дома_панельный     1562 non-null   bool   \n",
      "dtypes: bool(32), float64(4)\n",
      "memory usage: 109.8 KB\n"
     ]
    }
   ],
   "source": [
    "data.info()"
   ],
   "metadata": {
    "collapsed": false,
    "ExecuteTime": {
     "end_time": "2024-05-12T15:52:05.655548Z",
     "start_time": "2024-05-12T15:52:05.649970Z"
    }
   },
   "id": "ef9ad90f34980a7f",
   "execution_count": 34
  },
  {
   "cell_type": "code",
   "outputs": [
    {
     "name": "stdout",
     "output_type": "stream",
     "text": [
      "Accuracy: 0.8535031847133758\n"
     ]
    }
   ],
   "source": [
    "from sklearn.model_selection import train_test_split\n",
    "from sklearn.metrics import accuracy_score\n",
    "from sklearn.ensemble import RandomForestClassifier\n",
    "\n",
    "X = data.drop(['цена_высокая', 'цена_низкая', 'цена_средняя'], axis=1)\n",
    "y = data[['цена_высокая', 'цена_низкая', 'цена_средняя']]\n",
    "\n",
    "X_train, X_test, y_train, y_test = train_test_split(X, y, test_size=0.1, random_state=30)\n",
    "\n",
    "rf_classifier = RandomForestClassifier(random_state=10)\n",
    "rf_classifier.fit(X_train, y_train)\n",
    "\n",
    "y_pred = rf_classifier.predict(X_test)\n",
    "\n",
    "accuracy = accuracy_score(y_test, y_pred)\n",
    "print(\"Accuracy:\", accuracy)"
   ],
   "metadata": {
    "collapsed": false,
    "ExecuteTime": {
     "end_time": "2024-05-12T16:00:30.712508Z",
     "start_time": "2024-05-12T16:00:30.562840Z"
    }
   },
   "id": "aac02d007bbb68ab",
   "execution_count": 65
  },
  {
   "cell_type": "code",
   "outputs": [],
   "source": [],
   "metadata": {
    "collapsed": false
   },
   "id": "7aace042bcf17133"
  }
 ],
 "metadata": {
  "kernelspec": {
   "display_name": "Python 3",
   "language": "python",
   "name": "python3"
  },
  "language_info": {
   "codemirror_mode": {
    "name": "ipython",
    "version": 2
   },
   "file_extension": ".py",
   "mimetype": "text/x-python",
   "name": "python",
   "nbconvert_exporter": "python",
   "pygments_lexer": "ipython2",
   "version": "2.7.6"
  }
 },
 "nbformat": 4,
 "nbformat_minor": 5
}
