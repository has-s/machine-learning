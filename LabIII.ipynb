{
 "cells": [
  {
   "cell_type": "code",
   "outputs": [
    {
     "name": "stdout",
     "output_type": "stream",
     "text": [
      "Tolstoy data shape: (4448, 2)\n",
      "Goncharov data shape: (6504, 2)\n",
      "Chekhov data shape: (1412, 2)\n",
      "              precision    recall  f1-score   support\n",
      "\n",
      "      finger       0.90      0.88      0.89       890\n",
      "        koch       0.92      0.85      0.88      1301\n",
      "      reiter       0.43      0.60      0.50       282\n",
      "\n",
      "    accuracy                           0.83      2473\n",
      "   macro avg       0.75      0.78      0.76      2473\n",
      "weighted avg       0.85      0.83      0.84      2473\n",
      "\n",
      "Accuracy: 0.8334007278608977\n",
      "Best parameters: {'max_depth': None, 'min_samples_leaf': 2, 'min_samples_split': 5, 'n_estimators': 200}\n",
      "Best cross-validation score: 0.8276699029126213\n",
      "              precision    recall  f1-score   support\n",
      "\n",
      "      finger       0.93      0.86      0.89       890\n",
      "        koch       0.79      0.97      0.87      1301\n",
      "      reiter       0.98      0.15      0.25       282\n",
      "\n",
      "    accuracy                           0.84      2473\n",
      "   macro avg       0.90      0.66      0.67      2473\n",
      "weighted avg       0.86      0.84      0.81      2473\n",
      "\n",
      "Accuracy with best model: 0.8378487666801455\n"
     ]
    }
   ],
   "source": [
    "import pandas as pd\n",
    "import numpy as np\n",
    "from sklearn.model_selection import train_test_split, cross_validate, GridSearchCV\n",
    "from sklearn.feature_extraction.text import TfidfVectorizer\n",
    "from sklearn.ensemble import RandomForestClassifier\n",
    "from sklearn.metrics import classification_report, accuracy_score\n",
    "from bs4 import BeautifulSoup\n",
    "from urllib.request import urlopen\n",
    "import re\n",
    "\n",
    "def get_sentences_from_url(URL, label):\n",
    "    html = urlopen(URL).read()\n",
    "    soup = BeautifulSoup(html, 'html.parser')\n",
    "    text = soup.get_text().replace('--','-')\n",
    "    sentences = re.split(r'(?<!\\w\\.\\w.)(?<![A-Z][a-z]\\.)(?<=\\.|\\?)\\s', text)\n",
    "    return pd.DataFrame({'text': sentences, 'label': [label] * len(sentences)})\n",
    "\n",
    "# Загрузка данных трех различных авторов\n",
    "finger_text = get_sentences_from_url('http://az.lib.ru/f/figner_w_n/text_0090.shtml', 'finger')\n",
    "koch_text = get_sentences_from_url('http://az.lib.ru/k/koh_m/text_1888_shakespeare-oldorfo.shtml', 'koch')\n",
    "reiter_text = get_sentences_from_url('http://az.lib.ru/r/rejter_g/text_1897_der_lebenskunstler-oldorfo.shtml', 'reiter')\n",
    "\n",
    "# Проверка успешности загрузки данных\n",
    "print(f'Finger data shape: {finger_text.shape}')\n",
    "print(f'Koch data shape: {koch_text.shape}')\n",
    "print(f'Reiter data shape: {reiter_text.shape}')\n",
    "\n",
    "# Объединение данных\n",
    "data = pd.concat([finger_text, koch_text, reiter_text], ignore_index=True)\n",
    "data = data.reset_index(drop=True)\n",
    "\n",
    "# Удаление пустых строк\n",
    "data = data[data['text'].str.strip().astype(bool)]\n",
    "\n",
    "# Проверка пустого DataFrame\n",
    "if data.empty:\n",
    "    raise ValueError(\"The combined dataset is empty. Please check the URLs and ensure they return data.\")\n",
    "\n",
    "X = data['text']\n",
    "y = data['label']\n",
    "\n",
    "# Разделение данных на тренировочные и тестовые\n",
    "X_train, X_test, y_train, y_test = train_test_split(X, y, train_size=0.8, random_state=42, stratify=y)\n",
    "\n",
    "# Векторизация текста с использованием TF-IDF\n",
    "vectorizer = TfidfVectorizer(ngram_range=(1, 2), max_features=None)\n",
    "X_train_vec = vectorizer.fit_transform(X_train)\n",
    "X_test_vec = vectorizer.transform(X_test)\n",
    "\n",
    "# Обучение модели RandomForest\n",
    "model = RandomForestClassifier(random_state=42)\n",
    "model.fit(X_train_vec, y_train)\n",
    "\n",
    "# Оценка модели\n",
    "y_pred = model.predict(X_test_vec)\n",
    "print(classification_report(y_test, y_pred))\n",
    "print(\"Accuracy:\", accuracy_score(y_test, y_pred))\n",
    "\n",
    "# Гиперпараметрическая оптимизация с использованием GridSearchCV\n",
    "param_grid = {\n",
    "    'n_estimators': [100, 200],\n",
    "    'max_depth': [None, 10, 20],\n",
    "    'min_samples_split': [2, 5],\n",
    "    'min_samples_leaf': [1, 2],\n",
    "}\n",
    "\n",
    "grid_search = GridSearchCV(model, param_grid, cv=4, scoring='accuracy', n_jobs=-1)\n",
    "grid_search.fit(X_train_vec, y_train)\n",
    "\n",
    "print(\"Best parameters:\", grid_search.best_params_)\n",
    "print(\"Best cross-validation score:\", grid_search.best_score_)\n",
    "\n",
    "# Оценка модели с лучшими гиперпараметрами\n",
    "best_model = grid_search.best_estimator_\n",
    "y_pred_best = best_model.predict(X_test_vec)\n",
    "print(classification_report(y_test, y_pred_best))\n",
    "print(\"Accuracy with best model:\", accuracy_score(y_test, y_pred_best))\n"
   ],
   "metadata": {
    "collapsed": false,
    "ExecuteTime": {
     "end_time": "2024-06-05T17:12:30.902182Z",
     "start_time": "2024-06-05T17:04:56.396805Z"
    }
   },
   "id": "114fc4fd2a239a5f",
   "execution_count": 2
  },
  {
   "cell_type": "code",
   "outputs": [
    {
     "name": "stdout",
     "output_type": "stream",
     "text": [
      "              precision    recall  f1-score   support\n",
      "\n",
      "      finger       0.93      0.86      0.89       890\n",
      "        koch       0.79      0.97      0.87      1301\n",
      "      reiter       0.98      0.15      0.25       282\n",
      "\n",
      "    accuracy                           0.84      2473\n",
      "   macro avg       0.90      0.66      0.67      2473\n",
      "weighted avg       0.86      0.84      0.81      2473\n",
      "\n",
      "Accuracy with best model: 0.8378487666801455\n",
      "Cross-validation train scores with best model: [0.85558252 0.850863   0.85760518 0.85490831]\n",
      "Cross-validation test scores with best model: [0.82686084 0.83090615 0.82686084 0.82605178]\n",
      "Average cross-validation test score with best model: 0.8276699029126213\n"
     ]
    }
   ],
   "source": [
    "# Разделение данных на тренировочные и тестовые\n",
    "X_train, X_test, y_train, y_test = train_test_split(X, y, train_size=0.8, random_state=42, stratify=y)\n",
    "\n",
    "# Векторизация текста с использованием TF-IDF\n",
    "vectorizer = TfidfVectorizer(ngram_range=(1, 2), max_features=None)\n",
    "X_train_vec = vectorizer.fit_transform(X_train)\n",
    "X_test_vec = vectorizer.transform(X_test)\n",
    "\n",
    "# Обучение модели RandomForest с лучшими гиперпараметрами\n",
    "best_params = {'max_depth': None, 'min_samples_leaf': 2, 'min_samples_split': 5, 'n_estimators': 200}\n",
    "best_model = RandomForestClassifier(**best_params, random_state=42)\n",
    "best_model.fit(X_train_vec, y_train)\n",
    "\n",
    "# Оценка модели\n",
    "y_pred_best = best_model.predict(X_test_vec)\n",
    "print(classification_report(y_test, y_pred_best))\n",
    "print(\"Accuracy with best model:\", accuracy_score(y_test, y_pred_best))\n",
    "\n",
    "# Перекрестная проверка с лучшими гиперпараметрами\n",
    "cv_results_best = cross_validate(best_model, X_train_vec, y_train, cv=4, return_train_score=True)\n",
    "print(\"Cross-validation train scores with best model:\", cv_results_best['train_score'])\n",
    "print(\"Cross-validation test scores with best model:\", cv_results_best['test_score'])\n",
    "print(\"Average cross-validation test score with best model:\", np.mean(cv_results_best['test_score']))\n"
   ],
   "metadata": {
    "collapsed": false,
    "ExecuteTime": {
     "end_time": "2024-06-05T18:42:07.973002Z",
     "start_time": "2024-06-05T18:37:03.617676Z"
    }
   },
   "id": "3ca59009ec3e5163",
   "execution_count": 10
  },
  {
   "cell_type": "markdown",
   "source": [
    "Благодарю за Ваш комментарий: \"Код вообще хоть раз запускался? Где результаты?\" Ваши острые наблюдения всегда вдохновляют меня на новые свершения.\n",
    "\n",
    "На всякий случай напоминаю, что код был не только написан, но и успешно запущен. Более того, результаты, которые так волнуют Вас, были представлены в соответствующих блоках вывода. Возможно, их сложно заметить среди всех строк кода и пояснительных комментариев, которые я включила, чтобы сделать проект понятным и прозрачным.\n",
    "\n",
    "Конечно, я понимаю, что в условиях недостатка времени и желания вникать в детали, такие вещи могут ускользать. Если бы я знала, что мне нужно напомнить о необходимости просмотра конечного вывода, я бы сделал это заранее. Наверное, нужно было крупными буквами в начале работы написать: \"ВНИМАНИЕ! РЕЗУЛЬТАТЫ В КОНЦЕ!\"\n",
    "\n",
    "Позвольте мне снова продемонстрировать, что код не только запускался, но и показывал результаты, которые, безусловно, были легко доступны для внимательного глаза:"
   ],
   "metadata": {
    "collapsed": false
   },
   "id": "f1ae9b99ff02af7"
  },
  {
   "cell_type": "code",
   "outputs": [
    {
     "name": "stdout",
     "output_type": "stream",
     "text": [
      "reiter\n"
     ]
    }
   ],
   "source": [
    "def classify_sentence(sentence):\n",
    "    sentence_vec = vectorizer.transform([sentence])\n",
    "    prediction = best_model.predict(sentence_vec)\n",
    "    return prediction[0]\n",
    "\n",
    "new_sentence = \"Докторъ Альтгаусъ былъ нѣсколько...\"\n",
    "predicted_author = classify_sentence(new_sentence)\n",
    "print(predicted_author)"
   ],
   "metadata": {
    "collapsed": false,
    "ExecuteTime": {
     "end_time": "2024-06-05T18:46:39.528003Z",
     "start_time": "2024-06-05T18:46:39.513777Z"
    }
   },
   "id": "49d5224291dc66f9",
   "execution_count": 21
  },
  {
   "cell_type": "code",
   "outputs": [
    {
     "name": "stdout",
     "output_type": "stream",
     "text": [
      "finger\n"
     ]
    }
   ],
   "source": [
    "new_sentence = \"Часов через пять пароход...\"\n",
    "predicted_author = classify_sentence(new_sentence)\n",
    "print(predicted_author)"
   ],
   "metadata": {
    "collapsed": false,
    "ExecuteTime": {
     "end_time": "2024-06-05T18:46:24.624971Z",
     "start_time": "2024-06-05T18:46:24.612126Z"
    }
   },
   "id": "1bdabec7e7c2a9e6",
   "execution_count": 20
  },
  {
   "cell_type": "code",
   "outputs": [
    {
     "name": "stdout",
     "output_type": "stream",
     "text": [
      "koch\n"
     ]
    }
   ],
   "source": [
    "new_sentence = \"Принято за правило, что великіе люди, и въ особенности поэты...\"\n",
    "predicted_author = classify_sentence(new_sentence)\n",
    "print(predicted_author)"
   ],
   "metadata": {
    "collapsed": false,
    "ExecuteTime": {
     "end_time": "2024-06-05T18:46:15.716047Z",
     "start_time": "2024-06-05T18:46:15.704737Z"
    }
   },
   "id": "43f7d2e4590b22a8",
   "execution_count": 19
  }
 ],
 "metadata": {
  "kernelspec": {
   "display_name": "Python 3",
   "language": "python",
   "name": "python3"
  },
  "language_info": {
   "codemirror_mode": {
    "name": "ipython",
    "version": 2
   },
   "file_extension": ".py",
   "mimetype": "text/x-python",
   "name": "python",
   "nbconvert_exporter": "python",
   "pygments_lexer": "ipython2",
   "version": "2.7.6"
  }
 },
 "nbformat": 4,
 "nbformat_minor": 5
}
